{
 "cells": [
  {
   "cell_type": "code",
   "execution_count": 2,
   "metadata": {},
   "outputs": [],
   "source": [
    "from tensorflow.keras.preprocessing.image import ImageDataGenerator\n",
    "#from tensorflow.keras.preprocessing import image\n",
    "from tensorflow.keras.optimizers import RMSprop\n",
    "import matplotlib.pyplot as plt\n",
    "from matplotlib import pyplot as plt, image\n",
    "from matplotlib import colors\n",
    "import tensorflow as tf\n",
    "import pandas as pd\n",
    "import numpy as np\n",
    "import glob\n",
    "import cv2\n",
    "import os"
   ]
  },
  {
   "cell_type": "markdown",
   "metadata": {},
   "source": [
    "# Load images as nparray"
   ]
  },
  {
   "cell_type": "markdown",
   "metadata": {},
   "source": [
    "images as X"
   ]
  },
  {
   "cell_type": "code",
   "execution_count": 3,
   "metadata": {},
   "outputs": [],
   "source": [
    "working_path = 'T:/Hongwei/10-Machine thinking/DATA Hardware/2 Image sensor/Data/2021-10-13 Vision fruits'"
   ]
  },
  {
   "cell_type": "code",
   "execution_count": 4,
   "metadata": {},
   "outputs": [],
   "source": [
    "os.chdir(working_path)"
   ]
  },
  {
   "cell_type": "code",
   "execution_count": 5,
   "metadata": {},
   "outputs": [],
   "source": [
    "def img_reader(PATH):  \n",
    "    X = []\n",
    "    for path, subdir, files in os.walk(PATH):\n",
    "        for file_name in glob.glob(os.path.join(path, '*.jpg')):\n",
    "            data = cv2.imread(file_name).astype(np.float32)\n",
    "            data = cv2.resize(data/255,(64,32))\n",
    "            data = cv2.cvtColor(data, cv2.COLOR_BGR2RGB)\n",
    "            X.append(data)\n",
    "    X = np.array(X)  # convert list to ndarray\n",
    "    return X"
   ]
  },
  {
   "cell_type": "code",
   "execution_count": 6,
   "metadata": {},
   "outputs": [],
   "source": [
    "def noise_data_generator(array,noise_factor):\n",
    "    \"\"\"\n",
    "    Adds random noise to each image in the supplied array.\n",
    "    \"\"\"\n",
    "\n",
    "    noisy_array = array + noise_factor * np.random.normal(\n",
    "        loc=0.0, scale=1.0, size=array.shape\n",
    "    )\n",
    "\n",
    "    return np.clip(noisy_array, 0.0, 1.0).astype(np.float32)"
   ]
  },
  {
   "cell_type": "code",
   "execution_count": 7,
   "metadata": {},
   "outputs": [
    {
     "name": "stdout",
     "output_type": "stream",
     "text": [
      "(720, 32, 64, 3)\n",
      "(7200, 32, 64, 3)\n"
     ]
    }
   ],
   "source": [
    "# 720 images as X_train\n",
    "\n",
    "X_train = img_reader('data/train')\n",
    "\n",
    "print(X_train.shape)\n",
    "\n",
    "# extend to 7200\n",
    "\n",
    "add = np.copy(X_train)\n",
    "for i in range(9): # 720 datasets to 7200 datasets\n",
    "    X_train = np.vstack((X_train,add)).astype(np.float32)\n",
    "\n",
    "print(X_train.shape)"
   ]
  },
  {
   "cell_type": "code",
   "execution_count": 8,
   "metadata": {},
   "outputs": [],
   "source": [
    "noise = 0.1"
   ]
  },
  {
   "cell_type": "code",
   "execution_count": 9,
   "metadata": {},
   "outputs": [
    {
     "name": "stdout",
     "output_type": "stream",
     "text": [
      "(7200, 32, 64, 3)\n"
     ]
    }
   ],
   "source": [
    "# add noise\n",
    "XX_train = noise_data_generator(array = X_train,noise_factor = noise)\n",
    "print(XX_train.shape)"
   ]
  },
  {
   "cell_type": "code",
   "execution_count": 10,
   "metadata": {},
   "outputs": [
    {
     "data": {
      "text/plain": [
       "(7200, 32, 64, 3)"
      ]
     },
     "execution_count": 10,
     "metadata": {},
     "output_type": "execute_result"
    }
   ],
   "source": [
    "XX_train.shape"
   ]
  },
  {
   "cell_type": "code",
   "execution_count": 11,
   "metadata": {},
   "outputs": [
    {
     "data": {
      "text/plain": [
       "<matplotlib.image.AxesImage at 0x1bb196939d0>"
      ]
     },
     "execution_count": 11,
     "metadata": {},
     "output_type": "execute_result"
    },
    {
     "data": {
      "image/png": "[encoded data removed]",
      "text/plain": [
       "<Figure size 432x288 with 1 Axes>"
      ]
     },
     "metadata": {
      "needs_background": "light"
     },
     "output_type": "display_data"
    }
   ],
   "source": [
    "plt.imshow(XX_train[66])"
   ]
  },
  {
   "cell_type": "code",
   "execution_count": 12,
   "metadata": {},
   "outputs": [
    {
     "data": {
      "text/plain": [
       "1.0"
      ]
     },
     "execution_count": 12,
     "metadata": {},
     "output_type": "execute_result"
    }
   ],
   "source": [
    "XX_train[0].max()"
   ]
  },
  {
   "cell_type": "code",
   "execution_count": 13,
   "metadata": {},
   "outputs": [
    {
     "data": {
      "text/plain": [
       "numpy.float32"
      ]
     },
     "execution_count": 13,
     "metadata": {},
     "output_type": "execute_result"
    }
   ],
   "source": [
    "type(XX_train[0][0][0][0])"
   ]
  },
  {
   "cell_type": "code",
   "execution_count": 14,
   "metadata": {},
   "outputs": [
    {
     "name": "stdout",
     "output_type": "stream",
     "text": [
      "(90, 32, 64, 3)\n",
      "(900, 32, 64, 3)\n"
     ]
    }
   ],
   "source": [
    "# 90 images as X_validate\n",
    "X_validate = img_reader('data/validation')\n",
    "\n",
    "print(X_validate.shape)\n",
    "\n",
    "# extend to 900\n",
    "add = np.copy(X_validate)\n",
    "for i in range(9): \n",
    "    X_validate = np.vstack((X_validate,add)).astype(np.float32)\n",
    "    \n",
    "print(X_validate.shape)"
   ]
  },
  {
   "cell_type": "code",
   "execution_count": 15,
   "metadata": {},
   "outputs": [
    {
     "name": "stdout",
     "output_type": "stream",
     "text": [
      "(900, 32, 64, 3)\n"
     ]
    }
   ],
   "source": [
    "#add noise\n",
    "XX_validate = noise_data_generator(array = X_validate,noise_factor = noise)    \n",
    "print(XX_validate.shape)"
   ]
  },
  {
   "cell_type": "code",
   "execution_count": 16,
   "metadata": {},
   "outputs": [
    {
     "name": "stdout",
     "output_type": "stream",
     "text": [
      "(90, 32, 64, 3)\n",
      "(900, 32, 64, 3)\n"
     ]
    }
   ],
   "source": [
    "# 90 images as X_test\n",
    "X_test = img_reader('data/test')\n",
    "\n",
    "print(X_test.shape)\n",
    "\n",
    "# extend to 900\n",
    "add = np.copy(X_test)\n",
    "for i in range(9): \n",
    "    X_test = np.vstack((X_test,add)).astype(np.float32)\n",
    "    \n",
    "print(X_test.shape)"
   ]
  },
  {
   "cell_type": "code",
   "execution_count": 17,
   "metadata": {},
   "outputs": [
    {
     "name": "stdout",
     "output_type": "stream",
     "text": [
      "(900, 32, 64, 3)\n"
     ]
    }
   ],
   "source": [
    "#add noise\n",
    "XX_test = noise_data_generator(array = X_test,noise_factor = noise)   \n",
    "print(XX_test.shape)"
   ]
  },
  {
   "cell_type": "code",
   "execution_count": null,
   "metadata": {},
   "outputs": [],
   "source": []
  },
  {
   "cell_type": "code",
   "execution_count": null,
   "metadata": {},
   "outputs": [],
   "source": []
  },
  {
   "cell_type": "markdown",
   "metadata": {},
   "source": [
    "Classes as Y"
   ]
  },
  {
   "cell_type": "code",
   "execution_count": 18,
   "metadata": {},
   "outputs": [],
   "source": [
    "YY = np.eye(9, dtype=int)"
   ]
  },
  {
   "cell_type": "code",
   "execution_count": 19,
   "metadata": {},
   "outputs": [
    {
     "data": {
      "text/plain": [
       "array([[1, 0, 0, 0, 0, 0, 0, 0, 0],\n",
       "       [0, 1, 0, 0, 0, 0, 0, 0, 0],\n",
       "       [0, 0, 1, 0, 0, 0, 0, 0, 0],\n",
       "       [0, 0, 0, 1, 0, 0, 0, 0, 0],\n",
       "       [0, 0, 0, 0, 1, 0, 0, 0, 0],\n",
       "       [0, 0, 0, 0, 0, 1, 0, 0, 0],\n",
       "       [0, 0, 0, 0, 0, 0, 1, 0, 0],\n",
       "       [0, 0, 0, 0, 0, 0, 0, 1, 0],\n",
       "       [0, 0, 0, 0, 0, 0, 0, 0, 1]])"
      ]
     },
     "execution_count": 19,
     "metadata": {},
     "output_type": "execute_result"
    }
   ],
   "source": [
    "YY"
   ]
  },
  {
   "cell_type": "code",
   "execution_count": 20,
   "metadata": {},
   "outputs": [
    {
     "data": {
      "text/plain": [
       "9"
      ]
     },
     "execution_count": 20,
     "metadata": {},
     "output_type": "execute_result"
    }
   ],
   "source": [
    "len(YY)"
   ]
  },
  {
   "cell_type": "code",
   "execution_count": 21,
   "metadata": {},
   "outputs": [
    {
     "data": {
      "text/plain": [
       "100"
      ]
     },
     "execution_count": 21,
     "metadata": {},
     "output_type": "execute_result"
    }
   ],
   "source": [
    "int(len(XX_validate)/9)"
   ]
  },
  {
   "cell_type": "code",
   "execution_count": 22,
   "metadata": {},
   "outputs": [],
   "source": [
    "def YY_generate(YY,data_num_per_class,class_num,repeat_number):\n",
    "    YY_train = []\n",
    "    for i in range (class_num):\n",
    "        Y_train = np.tile(YY[i], (data_num_per_class,1))\n",
    "        YY_train.append(Y_train)\n",
    "    YY_train = np.array(YY_train)\n",
    "    YY_train = np.vstack((YY_train[0],YY_train[1],YY_train[2],YY_train[3],YY_train[4],YY_train[5],YY_train[6],YY_train[7],YY_train[8]))\n",
    "    \n",
    "    YY_train = np.tile(YY_train,(repeat_number,1))\n",
    "    \n",
    "    return YY_train"
   ]
  },
  {
   "cell_type": "code",
   "execution_count": 23,
   "metadata": {},
   "outputs": [],
   "source": [
    "YY_train = YY_generate(YY = YY,data_num_per_class = 80,class_num = 9,repeat_number = 10)\n",
    "YY_validate = YY_generate(YY,data_num_per_class = 10,class_num = 9,repeat_number = 10)\n",
    "YY_test = YY_generate(YY,data_num_per_class = 10,class_num = 9,repeat_number = 10)"
   ]
  },
  {
   "cell_type": "code",
   "execution_count": 24,
   "metadata": {},
   "outputs": [
    {
     "data": {
      "text/plain": [
       "(7200, 9)"
      ]
     },
     "execution_count": 24,
     "metadata": {},
     "output_type": "execute_result"
    }
   ],
   "source": [
    "YY_train.shape"
   ]
  },
  {
   "cell_type": "code",
   "execution_count": 26,
   "metadata": {},
   "outputs": [
    {
     "data": {
      "text/plain": [
       "array([1, 0, 0, 0, 0, 0, 0, 0, 0])"
      ]
     },
     "execution_count": 26,
     "metadata": {},
     "output_type": "execute_result"
    }
   ],
   "source": [
    "YY_train[79]"
   ]
  },
  {
   "cell_type": "code",
   "execution_count": 27,
   "metadata": {},
   "outputs": [
    {
     "data": {
      "text/plain": [
       "array([[1, 0, 0, ..., 0, 0, 0],\n",
       "       [1, 0, 0, ..., 0, 0, 0],\n",
       "       [1, 0, 0, ..., 0, 0, 0],\n",
       "       ...,\n",
       "       [0, 0, 0, ..., 0, 0, 1],\n",
       "       [0, 0, 0, ..., 0, 0, 1],\n",
       "       [0, 0, 0, ..., 0, 0, 1]])"
      ]
     },
     "execution_count": 27,
     "metadata": {},
     "output_type": "execute_result"
    }
   ],
   "source": [
    "YY_validate"
   ]
  },
  {
   "cell_type": "code",
   "execution_count": 28,
   "metadata": {},
   "outputs": [
    {
     "data": {
      "text/plain": [
       "7200"
      ]
     },
     "execution_count": 28,
     "metadata": {},
     "output_type": "execute_result"
    }
   ],
   "source": [
    "len(YY_train)"
   ]
  },
  {
   "cell_type": "code",
   "execution_count": 29,
   "metadata": {},
   "outputs": [
    {
     "data": {
      "text/plain": [
       "(7200, 9)"
      ]
     },
     "execution_count": 29,
     "metadata": {},
     "output_type": "execute_result"
    }
   ],
   "source": [
    "YY_train.shape"
   ]
  },
  {
   "cell_type": "code",
   "execution_count": 30,
   "metadata": {},
   "outputs": [
    {
     "data": {
      "text/plain": [
       "(900, 32, 64, 3)"
      ]
     },
     "execution_count": 30,
     "metadata": {},
     "output_type": "execute_result"
    }
   ],
   "source": [
    "XX_validate.shape"
   ]
  },
  {
   "cell_type": "code",
   "execution_count": 31,
   "metadata": {},
   "outputs": [
    {
     "data": {
      "text/plain": [
       "(900, 32, 64, 3)"
      ]
     },
     "execution_count": 31,
     "metadata": {},
     "output_type": "execute_result"
    }
   ],
   "source": [
    "XX_test.shape"
   ]
  },
  {
   "cell_type": "code",
   "execution_count": 32,
   "metadata": {},
   "outputs": [
    {
     "data": {
      "image/png": "[encoded data removed]",
      "text/plain": [
       "<Figure size 432x288 with 1 Axes>"
      ]
     },
     "metadata": {
      "needs_background": "light"
     },
     "output_type": "display_data"
    }
   ],
   "source": [
    "plt.imshow(XX_test[0])\n",
    "plt.show()"
   ]
  },
  {
   "cell_type": "code",
   "execution_count": 33,
   "metadata": {},
   "outputs": [
    {
     "data": {
      "text/plain": [
       "(32, 64, 3)"
      ]
     },
     "execution_count": 33,
     "metadata": {},
     "output_type": "execute_result"
    }
   ],
   "source": [
    "XX_train[0].shape"
   ]
  },
  {
   "cell_type": "markdown",
   "metadata": {},
   "source": [
    "# Classification CNN"
   ]
  },
  {
   "cell_type": "code",
   "execution_count": 34,
   "metadata": {},
   "outputs": [],
   "source": [
    "#import keras\n",
    "#from keras import layers\n",
    "from tensorflow import keras\n",
    "from tensorflow.keras import layers"
   ]
  },
  {
   "cell_type": "code",
   "execution_count": 215,
   "metadata": {},
   "outputs": [],
   "source": [
    "input_img = keras.Input(shape=XX_train[0].shape)\n",
    "\n",
    "x = layers.Conv2D(16, (3, 3), activation='relu', padding='same')(input_img)\n",
    "x = layers.MaxPooling2D((2, 2), padding='same')(x)\n",
    "\n",
    "x = layers.Conv2D(16, (3, 3), activation='relu', padding='same')(x)\n",
    "x = layers.MaxPooling2D((2, 2), padding='same')(x)\n",
    "\n",
    "x = layers.Conv2D( 8, (3, 3), activation='relu', padding='same')(x)\n",
    "x = layers.MaxPooling2D((2, 2), padding='same')(x)\n",
    "\n",
    "x = layers.Conv2D( 8, (3, 3), activation='relu', padding='same')(x)\n",
    "x = layers.MaxPooling2D((2, 2), padding='same')(x)\n",
    "\n",
    "x = layers.Flatten()(x)\n",
    "x = layers.Dense(15,activation = 'relu')(x)\n",
    "output = layers.Dense(9,activation = 'softmax')(x)"
   ]
  },
  {
   "cell_type": "code",
   "execution_count": 216,
   "metadata": {},
   "outputs": [],
   "source": [
    "classifier = keras.Model(input_img, output)\n",
    "opt = keras.optimizers.Adam(learning_rate = 0.001)\n",
    "classifier.compile(optimizer=opt, loss='categorical_crossentropy',metrics=['accuracy'])"
   ]
  },
  {
   "cell_type": "code",
   "execution_count": 217,
   "metadata": {},
   "outputs": [
    {
     "name": "stdout",
     "output_type": "stream",
     "text": [
      "Model: \"model_8\"\n",
      "_________________________________________________________________\n",
      "Layer (type)                 Output Shape              Param #   \n",
      "=================================================================\n",
      "input_9 (InputLayer)         [(None, 32, 64, 3)]       0         \n",
      "_________________________________________________________________\n",
      "conv2d_32 (Conv2D)           (None, 32, 64, 16)        448       \n",
      "_________________________________________________________________\n",
      "max_pooling2d_32 (MaxPooling (None, 16, 32, 16)        0         \n",
      "_________________________________________________________________\n",
      "conv2d_33 (Conv2D)           (None, 16, 32, 16)        2320      \n",
      "_________________________________________________________________\n",
      "max_pooling2d_33 (MaxPooling (None, 8, 16, 16)         0         \n",
      "_________________________________________________________________\n",
      "conv2d_34 (Conv2D)           (None, 8, 16, 8)          1160      \n",
      "_________________________________________________________________\n",
      "max_pooling2d_34 (MaxPooling (None, 4, 8, 8)           0         \n",
      "_________________________________________________________________\n",
      "conv2d_35 (Conv2D)           (None, 4, 8, 8)           584       \n",
      "_________________________________________________________________\n",
      "max_pooling2d_35 (MaxPooling (None, 2, 4, 8)           0         \n",
      "_________________________________________________________________\n",
      "flatten_8 (Flatten)          (None, 64)                0         \n",
      "_________________________________________________________________\n",
      "dense_15 (Dense)             (None, 15)                975       \n",
      "_________________________________________________________________\n",
      "dense_16 (Dense)             (None, 9)                 144       \n",
      "=================================================================\n",
      "Total params: 5,631\n",
      "Trainable params: 5,631\n",
      "Non-trainable params: 0\n",
      "_________________________________________________________________\n"
     ]
    }
   ],
   "source": [
    "classifier.summary()"
   ]
  },
  {
   "cell_type": "code",
   "execution_count": 218,
   "metadata": {},
   "outputs": [],
   "source": [
    "epochs = 50"
   ]
  },
  {
   "cell_type": "code",
   "execution_count": 219,
   "metadata": {},
   "outputs": [
    {
     "name": "stdout",
     "output_type": "stream",
     "text": [
      "Epoch 1/50\n",
      "72/72 [==============================] - 4s 53ms/step - loss: 2.1031 - accuracy: 0.2032 - val_loss: 1.8528 - val_accuracy: 0.3500\n",
      "Epoch 2/50\n",
      "72/72 [==============================] - 5s 68ms/step - loss: 1.4856 - accuracy: 0.5133 - val_loss: 1.2708 - val_accuracy: 0.5722\n",
      "Epoch 3/50\n",
      "72/72 [==============================] - 6s 81ms/step - loss: 1.0133 - accuracy: 0.6853 - val_loss: 0.9391 - val_accuracy: 0.6989\n",
      "Epoch 4/50\n",
      "72/72 [==============================] - 6s 79ms/step - loss: 0.7712 - accuracy: 0.7525 - val_loss: 0.6133 - val_accuracy: 0.8556\n",
      "Epoch 5/50\n",
      "72/72 [==============================] - 6s 85ms/step - loss: 0.5610 - accuracy: 0.8249 - val_loss: 0.4709 - val_accuracy: 0.8756\n",
      "Epoch 6/50\n",
      "72/72 [==============================] - 6s 78ms/step - loss: 0.4677 - accuracy: 0.8485 - val_loss: 0.4066 - val_accuracy: 0.8544\n",
      "Epoch 7/50\n",
      "72/72 [==============================] - 6s 83ms/step - loss: 0.3422 - accuracy: 0.8986 - val_loss: 0.3064 - val_accuracy: 0.8967\n",
      "Epoch 8/50\n",
      "72/72 [==============================] - 6s 83ms/step - loss: 0.2766 - accuracy: 0.9131 - val_loss: 0.3079 - val_accuracy: 0.9200\n",
      "Epoch 9/50\n",
      "72/72 [==============================] - 6s 82ms/step - loss: 0.1952 - accuracy: 0.9454 - val_loss: 0.1876 - val_accuracy: 0.9467\n",
      "Epoch 10/50\n",
      "72/72 [==============================] - 6s 84ms/step - loss: 0.1480 - accuracy: 0.9632 - val_loss: 0.1674 - val_accuracy: 0.9367\n",
      "Epoch 11/50\n",
      "72/72 [==============================] - 6s 86ms/step - loss: 0.1336 - accuracy: 0.9629 - val_loss: 0.1773 - val_accuracy: 0.9578\n",
      "Epoch 12/50\n",
      "72/72 [==============================] - 6s 81ms/step - loss: 0.0995 - accuracy: 0.9764 - val_loss: 0.1352 - val_accuracy: 0.9456\n",
      "Epoch 13/50\n",
      "72/72 [==============================] - 6s 83ms/step - loss: 0.0723 - accuracy: 0.9832 - val_loss: 0.0908 - val_accuracy: 0.9678\n",
      "Epoch 14/50\n",
      "72/72 [==============================] - 6s 81ms/step - loss: 0.0619 - accuracy: 0.9850 - val_loss: 0.1243 - val_accuracy: 0.9478\n",
      "Epoch 15/50\n",
      "72/72 [==============================] - 6s 81ms/step - loss: 0.0655 - accuracy: 0.9828 - val_loss: 0.0947 - val_accuracy: 0.9611\n",
      "Epoch 16/50\n",
      "72/72 [==============================] - 6s 83ms/step - loss: 0.0460 - accuracy: 0.9890 - val_loss: 0.0751 - val_accuracy: 0.9667\n",
      "Epoch 17/50\n",
      "72/72 [==============================] - 6s 84ms/step - loss: 0.0427 - accuracy: 0.9887 - val_loss: 0.0903 - val_accuracy: 0.9633\n",
      "Epoch 18/50\n",
      "72/72 [==============================] - 6s 83ms/step - loss: 0.0354 - accuracy: 0.9906 - val_loss: 0.0582 - val_accuracy: 0.9811\n",
      "Epoch 19/50\n",
      "72/72 [==============================] - 6s 83ms/step - loss: 0.0226 - accuracy: 0.9965 - val_loss: 0.0573 - val_accuracy: 0.9800\n",
      "Epoch 20/50\n",
      "72/72 [==============================] - 6s 81ms/step - loss: 0.0212 - accuracy: 0.9964 - val_loss: 0.0664 - val_accuracy: 0.9722\n",
      "Epoch 21/50\n",
      "72/72 [==============================] - 7s 91ms/step - loss: 0.0171 - accuracy: 0.9971 - val_loss: 0.0534 - val_accuracy: 0.9844\n",
      "Epoch 22/50\n",
      "72/72 [==============================] - 6s 82ms/step - loss: 0.0145 - accuracy: 0.9981 - val_loss: 0.0874 - val_accuracy: 0.9622\n",
      "Epoch 23/50\n",
      "72/72 [==============================] - 6s 80ms/step - loss: 0.0217 - accuracy: 0.9943 - val_loss: 0.0605 - val_accuracy: 0.9756\n",
      "Epoch 24/50\n",
      "72/72 [==============================] - 6s 86ms/step - loss: 0.0168 - accuracy: 0.9969 - val_loss: 0.0779 - val_accuracy: 0.9622\n",
      "Epoch 25/50\n",
      "72/72 [==============================] - 6s 80ms/step - loss: 0.0131 - accuracy: 0.9974 - val_loss: 0.0871 - val_accuracy: 0.9622\n",
      "Epoch 26/50\n",
      "72/72 [==============================] - 6s 84ms/step - loss: 0.0136 - accuracy: 0.9976 - val_loss: 0.0791 - val_accuracy: 0.9689\n",
      "Epoch 27/50\n",
      "72/72 [==============================] - 6s 84ms/step - loss: 0.0165 - accuracy: 0.9964 - val_loss: 0.0526 - val_accuracy: 0.9778\n",
      "Epoch 28/50\n",
      "72/72 [==============================] - 6s 83ms/step - loss: 0.0096 - accuracy: 0.9985 - val_loss: 0.0709 - val_accuracy: 0.9711\n",
      "Epoch 29/50\n",
      "72/72 [==============================] - 6s 89ms/step - loss: 0.0074 - accuracy: 0.9990 - val_loss: 0.0443 - val_accuracy: 0.9778\n",
      "Epoch 30/50\n",
      "72/72 [==============================] - 6s 84ms/step - loss: 0.0096 - accuracy: 0.9982 - val_loss: 0.0869 - val_accuracy: 0.9656\n",
      "Epoch 31/50\n",
      "72/72 [==============================] - 6s 84ms/step - loss: 0.0310 - accuracy: 0.9901 - val_loss: 0.0654 - val_accuracy: 0.9678\n",
      "Epoch 32/50\n",
      "72/72 [==============================] - 6s 89ms/step - loss: 0.0060 - accuracy: 0.9994 - val_loss: 0.0523 - val_accuracy: 0.9767\n",
      "Epoch 33/50\n",
      "72/72 [==============================] - 6s 80ms/step - loss: 0.0050 - accuracy: 0.9996 - val_loss: 0.0539 - val_accuracy: 0.9733\n",
      "Epoch 34/50\n",
      "72/72 [==============================] - 6s 86ms/step - loss: 0.0044 - accuracy: 0.9999 - val_loss: 0.0584 - val_accuracy: 0.9733\n",
      "Epoch 35/50\n",
      "72/72 [==============================] - 6s 81ms/step - loss: 0.0046 - accuracy: 0.9993 - val_loss: 0.0567 - val_accuracy: 0.9722\n",
      "Epoch 36/50\n",
      "72/72 [==============================] - 6s 83ms/step - loss: 0.0078 - accuracy: 0.9978 - val_loss: 0.0930 - val_accuracy: 0.9622\n",
      "Epoch 37/50\n",
      "72/72 [==============================] - 6s 86ms/step - loss: 0.7092 - accuracy: 0.8556 - val_loss: 0.1626 - val_accuracy: 0.9467\n",
      "Epoch 38/50\n",
      "72/72 [==============================] - 6s 84ms/step - loss: 0.0339 - accuracy: 0.9928 - val_loss: 0.0990 - val_accuracy: 0.9711\n",
      "Epoch 39/50\n",
      "72/72 [==============================] - 6s 83ms/step - loss: 0.0195 - accuracy: 0.9972 - val_loss: 0.0632 - val_accuracy: 0.9789\n",
      "Epoch 40/50\n",
      "72/72 [==============================] - 6s 84ms/step - loss: 0.0137 - accuracy: 0.9985 - val_loss: 0.0723 - val_accuracy: 0.9811\n",
      "Epoch 41/50\n",
      "72/72 [==============================] - 6s 83ms/step - loss: 0.0107 - accuracy: 0.9990 - val_loss: 0.0615 - val_accuracy: 0.9744\n",
      "Epoch 42/50\n",
      "72/72 [==============================] - 7s 93ms/step - loss: 0.0096 - accuracy: 0.9989 - val_loss: 0.0556 - val_accuracy: 0.9800\n",
      "Epoch 43/50\n",
      "72/72 [==============================] - 6s 81ms/step - loss: 0.0070 - accuracy: 0.9996 - val_loss: 0.0556 - val_accuracy: 0.9800\n",
      "Epoch 44/50\n",
      "72/72 [==============================] - 6s 87ms/step - loss: 0.0062 - accuracy: 0.9993 - val_loss: 0.0579 - val_accuracy: 0.9789\n",
      "Epoch 45/50\n",
      "72/72 [==============================] - 6s 84ms/step - loss: 0.0059 - accuracy: 0.9993 - val_loss: 0.0710 - val_accuracy: 0.9744\n",
      "Epoch 46/50\n",
      "72/72 [==============================] - 6s 86ms/step - loss: 0.0050 - accuracy: 0.9997 - val_loss: 0.0592 - val_accuracy: 0.9778\n",
      "Epoch 47/50\n",
      "72/72 [==============================] - 6s 86ms/step - loss: 0.0045 - accuracy: 0.9997 - val_loss: 0.0643 - val_accuracy: 0.9800\n",
      "Epoch 48/50\n",
      "72/72 [==============================] - 6s 85ms/step - loss: 0.0039 - accuracy: 0.9999 - val_loss: 0.0512 - val_accuracy: 0.9800\n",
      "Epoch 49/50\n",
      "72/72 [==============================] - 6s 89ms/step - loss: 0.0038 - accuracy: 0.9997 - val_loss: 0.0529 - val_accuracy: 0.9800\n",
      "Epoch 50/50\n",
      "72/72 [==============================] - 6s 84ms/step - loss: 0.0041 - accuracy: 0.9997 - val_loss: 0.0726 - val_accuracy: 0.9756\n"
     ]
    }
   ],
   "source": [
    "history = classifier.fit(x = XX_train,\n",
    "                         y = YY_train,\n",
    "                         epochs=epochs,\n",
    "                          batch_size=100,\n",
    "                          shuffle=True,\n",
    "                          validation_data=(XX_validate,YY_validate)\n",
    "                         )"
   ]
  },
  {
   "cell_type": "code",
   "execution_count": 220,
   "metadata": {},
   "outputs": [],
   "source": [
    "accuracy = [history.history['accuracy']]\n",
    "accuracy = np.array(accuracy)\n",
    "np.savetxt('Classifier/accuracy.csv', accuracy.T, delimiter=',')\n",
    "\n",
    "val_accuracy = [history.history['val_accuracy']]\n",
    "val_accuracy = np.array(val_accuracy)\n",
    "np.savetxt('Classifier/val_accuracy.csv', val_accuracy.T, delimiter=',')"
   ]
  },
  {
   "cell_type": "code",
   "execution_count": 221,
   "metadata": {},
   "outputs": [],
   "source": [
    "loss = [history.history['loss']]\n",
    "loss = np.array(loss)\n",
    "np.savetxt('Classifier/loss.csv', loss.T, delimiter=',')\n",
    "\n",
    "val_loss = [history.history['val_loss']]\n",
    "val_loss = np.array(val_loss)\n",
    "np.savetxt('Classifier/val_loss.csv', val_loss.T, delimiter=',')"
   ]
  },
  {
   "cell_type": "code",
   "execution_count": 223,
   "metadata": {},
   "outputs": [
    {
     "name": "stdout",
     "output_type": "stream",
     "text": [
      "dict_keys(['loss', 'accuracy', 'val_loss', 'val_accuracy'])\n"
     ]
    },
    {
     "data": {
      "image/png": "[encoded data removed]",
      "text/plain": [
       "<Figure size 180x216 with 1 Axes>"
      ]
     },
     "metadata": {
      "needs_background": "light"
     },
     "output_type": "display_data"
    }
   ],
   "source": [
    "print(history.history.keys())\n",
    "# summarize history for accuracy\n",
    "plt.plot(history.history['accuracy'])\n",
    "plt.plot(history.history['val_accuracy'])\n",
    "#plt.title('model accuracy')\n",
    "plt.xlim(0,epochs+0.1*epochs)\n",
    "plt.ylim(0,1.1)\n",
    "plt.ylabel('accuracy')\n",
    "plt.xticks((0,epochs/2,epochs))\n",
    "plt.yticks((0,0.5,1))\n",
    "plt.xlabel('epoch')\n",
    "#plt.legend(['train', 'validation'], loc='lower right')\n",
    "plt.rcParams[\"figure.figsize\"] = (2.5,3)\n",
    "plt.rcParams['axes.spines.top'] = False\n",
    "plt.rcParams['axes.spines.right'] = False\n",
    "plt.rcParams.update({'font.size': 18}) \n",
    "plt.savefig('Classifier/Train_Val_accuracy.png',dpi = 300, bbox_inches='tight',transparent=True)"
   ]
  },
  {
   "cell_type": "code",
   "execution_count": 224,
   "metadata": {},
   "outputs": [
    {
     "data": {
      "image/png": "[encoded data removed]",
      "text/plain": [
       "<Figure size 180x216 with 1 Axes>"
      ]
     },
     "metadata": {
      "needs_background": "light"
     },
     "output_type": "display_data"
    }
   ],
   "source": [
    "# summarize history for loss\n",
    "plt.plot(history.history['loss'])\n",
    "plt.plot(history.history['val_loss'])\n",
    "#plt.title('model loss')\n",
    "plt.ylabel('loss')\n",
    "plt.xlabel('epoch')\n",
    "plt.xlim(0,epochs+0.1*epochs)\n",
    "plt.ylim(0,1)\n",
    "plt.xticks((0,epochs/2,epochs))\n",
    "plt.yticks((0,0.5,1))\n",
    "plt.rcParams[\"figure.figsize\"] = (2.5,3)\n",
    "#plt.legend(['train', 'validation'], loc='upper left')\n",
    "plt.savefig('Classifier/Train_Val_loss.png',dpi = 300, bbox_inches='tight',transparent=True)"
   ]
  },
  {
   "cell_type": "code",
   "execution_count": 225,
   "metadata": {},
   "outputs": [],
   "source": [
    "classifier.save('Classifier/FRUITS CLASSIFIER.h5')\n",
    "classifier.save_weights('Classifier/FRUITS CLASSIFIER weights.h5')"
   ]
  },
  {
   "cell_type": "markdown",
   "metadata": {},
   "source": [
    "# Test"
   ]
  },
  {
   "cell_type": "code",
   "execution_count": 227,
   "metadata": {},
   "outputs": [],
   "source": [
    "from tensorflow.keras.models import load_model\n",
    "classifier = load_model('Classifier/FRUITS CLASSIFIER.h5')"
   ]
  },
  {
   "cell_type": "code",
   "execution_count": 228,
   "metadata": {},
   "outputs": [],
   "source": [
    "Y_true = YY_test"
   ]
  },
  {
   "cell_type": "code",
   "execution_count": 229,
   "metadata": {},
   "outputs": [],
   "source": [
    "y_pred = classifier.predict(XX_test)"
   ]
  },
  {
   "cell_type": "code",
   "execution_count": 230,
   "metadata": {},
   "outputs": [
    {
     "data": {
      "text/plain": [
       "array([[9.99588668e-01, 2.99435565e-09, 2.83691748e-14, ...,\n",
       "        5.23408630e-07, 2.61459965e-09, 6.27840792e-12],\n",
       "       [9.99955893e-01, 3.86385000e-06, 2.50211845e-17, ...,\n",
       "        2.36181890e-11, 7.76114994e-09, 4.29394137e-14],\n",
       "       [9.99830246e-01, 1.18267884e-07, 5.04593383e-13, ...,\n",
       "        4.83044005e-08, 5.70411995e-10, 2.55203042e-12],\n",
       "       ...,\n",
       "       [2.84550420e-18, 6.06680943e-16, 9.31925327e-03, ...,\n",
       "        1.21407462e-09, 3.51834539e-09, 4.73624051e-01],\n",
       "       [4.86544769e-22, 4.44159852e-14, 6.90447749e-04, ...,\n",
       "        3.03520403e-11, 1.16128951e-09, 9.99307275e-01],\n",
       "       [1.32478119e-19, 1.25031209e-20, 7.99327822e-08, ...,\n",
       "        1.43158304e-12, 1.01549069e-09, 9.99904037e-01]], dtype=float32)"
      ]
     },
     "execution_count": 230,
     "metadata": {},
     "output_type": "execute_result"
    }
   ],
   "source": [
    "y_pred"
   ]
  },
  {
   "cell_type": "code",
   "execution_count": 231,
   "metadata": {},
   "outputs": [],
   "source": [
    "Y_pred = np.zeros_like(y_pred,dtype=int)"
   ]
  },
  {
   "cell_type": "code",
   "execution_count": 232,
   "metadata": {},
   "outputs": [],
   "source": [
    "Y_pred[np.arange(len(y_pred)), y_pred.argmax(1)] = 1"
   ]
  },
  {
   "cell_type": "code",
   "execution_count": 233,
   "metadata": {},
   "outputs": [
    {
     "data": {
      "text/plain": [
       "array([[1, 0, 0, ..., 0, 0, 0],\n",
       "       [1, 0, 0, ..., 0, 0, 0],\n",
       "       [1, 0, 0, ..., 0, 0, 0],\n",
       "       ...,\n",
       "       [0, 0, 0, ..., 0, 0, 0],\n",
       "       [0, 0, 0, ..., 0, 0, 1],\n",
       "       [0, 0, 0, ..., 0, 0, 1]])"
      ]
     },
     "execution_count": 233,
     "metadata": {},
     "output_type": "execute_result"
    }
   ],
   "source": [
    "Y_pred"
   ]
  },
  {
   "cell_type": "code",
   "execution_count": 234,
   "metadata": {},
   "outputs": [
    {
     "name": "stdout",
     "output_type": "stream",
     "text": [
      "['apple', 'banana', 'blueberry', 'cherry_tomato', 'kiwi', 'orange', 'pear', 'persimmon', 'raspberry']\n"
     ]
    }
   ],
   "source": [
    "from sklearn.metrics import ConfusionMatrixDisplay\n",
    "from sklearn.metrics import confusion_matrix\n",
    "\n",
    "labels = ['apple', 'banana', 'blueberry', 'cherry_tomato', 'kiwi', 'orange', 'pear', 'persimmon', 'raspberry']\n",
    "print(labels)\n",
    "\n",
    "YY_TRUE=[]\n",
    "YY_PRED=[]\n",
    "for i in range(0,len(Y_true)):\n",
    "    Y_TRUE = np.argmax(Y_true[i])\n",
    "    Y_PRED = np.argmax(y_pred[i])\n",
    "    \n",
    "    YY_TRUE.append(Y_TRUE)\n",
    "    YY_PRED.append(Y_PRED)"
   ]
  },
  {
   "cell_type": "code",
   "execution_count": 236,
   "metadata": {},
   "outputs": [
    {
     "data": {
      "image/png": "[encoded data removed]",
      "text/plain": [
       "<Figure size 504x360 with 2 Axes>"
      ]
     },
     "metadata": {
      "needs_background": "light"
     },
     "output_type": "display_data"
    }
   ],
   "source": [
    "cm = confusion_matrix(YY_TRUE, YY_PRED, normalize='true')\n",
    "np.savetxt('Classifier/Confusion_matrix.csv', cm, delimiter=',')\n",
    "\n",
    "cm=np.around(cm,2)\n",
    "disp = ConfusionMatrixDisplay(confusion_matrix=cm, display_labels=labels)\n",
    "disp.plot(cmap=plt.cm.Blues,xticks_rotation = 90)\n",
    "disp.im_.set_clim(0, 1)\n",
    "\n",
    "#plt.rcParams.update({'font.size': 12})  # all font size besides 'fontsize'\n",
    "#plt.title('Confusion matrix')\n",
    "\n",
    "plt.rcParams.update({'font.size': 14})\n",
    "plt.tick_params(left=False,bottom=False)\n",
    "\n",
    "plt.xlabel('Prediction')\n",
    "plt.ylabel('True')\n",
    "\n",
    "plt.rcParams[\"figure.figsize\"] = (7,5)\n",
    "plt.rcParams['axes.spines.top'] = True\n",
    "plt.rcParams['axes.spines.right'] = True\n",
    "\n",
    "plt.savefig('Classifier/Fruit classifier.png',dpi = 300, bbox_inches='tight')\n",
    "plt.show()"
   ]
  },
  {
   "cell_type": "code",
   "execution_count": 237,
   "metadata": {},
   "outputs": [],
   "source": [
    "# READ ME FILE\n",
    "with open('Classifier/read me.txt', 'w') as f:\n",
    "    f.write(f'train_dataset = '+ f'{XX_train.shape}\\n'\n",
    "            f'validate_dataset = '+ f'{XX_validate.shape}\\n'\n",
    "            f'test_dataset = '+ f'{XX_test.shape}\\n'\n",
    "            f'noise factor = '+ f'{noise}\\n'\n",
    "            f'epochs = '+ f'{epochs}\\n'\n",
    "            )"
   ]
  },
  {
   "cell_type": "code",
   "execution_count": null,
   "metadata": {},
   "outputs": [],
   "source": []
  },
  {
   "cell_type": "code",
   "execution_count": null,
   "metadata": {},
   "outputs": [],
   "source": []
  }
 ],
 "metadata": {
  "kernelspec": {
   "display_name": "Python 3",
   "language": "python",
   "name": "python3"
  },
  "language_info": {
   "codemirror_mode": {
    "name": "ipython",
    "version": 3
   },
   "file_extension": ".py",
   "mimetype": "text/x-python",
   "name": "python",
   "nbconvert_exporter": "python",
   "pygments_lexer": "ipython3",
   "version": "3.8.5"
  }
 },
 "nbformat": 4,
 "nbformat_minor": 4
}
