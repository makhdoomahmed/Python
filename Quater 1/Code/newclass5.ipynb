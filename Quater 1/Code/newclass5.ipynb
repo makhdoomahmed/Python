{
 "cells": [
  {
   "cell_type": "markdown",
   "metadata": {},
   "source": [
    "# List and tuple\n",
    "* list mutable [, , , ]\n",
    "* tuple imutable ( , , ,  )\n",
    "\n",
    "### list[index]\n",
    "extract single value from list or tuple\n",
    "### list[start:end]\n",
    "extract multiple values from list or tuple (start enclude, end exclude one minus)\n",
    "### list[start:end:seq]\n",
    "extract multiple values from list or tuple also define sequance\n",
    "\n",
    "* methods and attributes"
   ]
  },
  {
   "cell_type": "code",
   "execution_count": 1,
   "metadata": {},
   "outputs": [],
   "source": [
    "name = \"Muhammad Qasim\""
   ]
  },
  {
   "cell_type": "code",
   "execution_count": 2,
   "metadata": {},
   "outputs": [],
   "source": [
    "# ->       0        1      2     3       4\n",
    "names = [\"Qasim\",\"Nasir\",\"Ali\",\"Hamza\",\"Mansoor\"]\n",
    "#           -5      -4     -3    -2      -1       <-\n",
    "\n",
    "#list[index]\n",
    "#list[start:end]\n",
    "#list[start:end:seq]\n"
   ]
  },
  {
   "cell_type": "markdown",
   "metadata": {},
   "source": [
    "# list[index]\n",
    "extract single value from list or tuple"
   ]
  },
  {
   "cell_type": "code",
   "execution_count": 3,
   "metadata": {},
   "outputs": [
    {
     "name": "stdout",
     "output_type": "stream",
     "text": [
      "['Qasim', 'Nasir', 'Ali', 'Hamza', 'Mansoor']\n",
      "Hamza\n",
      "Hamza\n"
     ]
    }
   ],
   "source": [
    "# ->       0        1      2     3       4\n",
    "names = [\"Qasim\",\"Nasir\",\"Ali\",\"Hamza\",\"Mansoor\"]\n",
    "#           -5      -4     -3    -2      -1       <-\n",
    "\n",
    "print(names)\n",
    "print(names[3]) # extract value with positive index\n",
    "print(names[-2]) # extract value with negative index"
   ]
  },
  {
   "cell_type": "code",
   "execution_count": 4,
   "metadata": {},
   "outputs": [
    {
     "name": "stdout",
     "output_type": "stream",
     "text": [
      "Before ['Qasim', 'Nasir', 'Ali', 'Hamza', 'Mansoor']\n",
      "After ['Muhammad Qasim', 'Nasir', 'Ali', 'Hamza', 'Mansoor']\n"
     ]
    }
   ],
   "source": [
    "# ->       0        1      2     3       4\n",
    "names = [\"Qasim\",\"Nasir\",\"Ali\",\"Hamza\",\"Mansoor\"] # elements, items\n",
    "#           -5      -4     -3    -2      -1       <-\n",
    "print(\"Before\",names)\n",
    "\n",
    "names[0] = \"Muhammad Qasim\" # update value with index number\n",
    "\n",
    "print(\"After\",names)"
   ]
  },
  {
   "cell_type": "code",
   "execution_count": 5,
   "metadata": {},
   "outputs": [
    {
     "data": {
      "text/plain": [
       "['Muhammad Qasim', 'Nasir', 'Ali', 'Hamza', 'Mansoor']"
      ]
     },
     "execution_count": 5,
     "metadata": {},
     "output_type": "execute_result"
    }
   ],
   "source": [
    "names"
   ]
  },
  {
   "cell_type": "markdown",
   "metadata": {},
   "source": [
    "### list[start:end]\n",
    "## Slicing (extract multiple values in sequance)\n",
    "extract multiple values from list or tuple (start enclude, end exclude one minus)\n"
   ]
  },
  {
   "cell_type": "markdown",
   "metadata": {},
   "source": [
    "esc->m->shift+enter"
   ]
  },
  {
   "cell_type": "code",
   "execution_count": 6,
   "metadata": {},
   "outputs": [
    {
     "name": "stdout",
     "output_type": "stream",
     "text": [
      "['Nasir', 'Ali']\n",
      "['Nasir', 'Ali', 'Hamza']\n",
      "['Nasir', 'Ali', 'Hamza', 'Mansoor']\n"
     ]
    }
   ],
   "source": [
    "# ->       0        1      2     3       4\n",
    "names = [\"Qasim\",\"Nasir\",\"Ali\",\"Hamza\",\"Mansoor\"] # elements, items\n",
    "#           -5      -4     -3    -2      -1       <-\n",
    "\n",
    "print(names[1:3]) # start enclude , end exclude index-1\n",
    "print(names[1:4])\n",
    "print(names[1:5])"
   ]
  },
  {
   "cell_type": "markdown",
   "metadata": {},
   "source": [
    "#### what we apply before slicing feature not part of this class just for refference we write here"
   ]
  },
  {
   "cell_type": "code",
   "execution_count": 7,
   "metadata": {},
   "outputs": [
    {
     "name": "stdout",
     "output_type": "stream",
     "text": [
      "Qasim\n",
      "Nasir\n",
      "Ali\n",
      "Hamza\n",
      "Mansoor\n"
     ]
    }
   ],
   "source": [
    "names = [\"Qasim\",\"Nasir\",\"Ali\",\"Hamza\",\"Mansoor\"] # elements, items\n",
    "\n",
    "\n",
    "i = 0\n",
    "while i<len(names):\n",
    "    print(names[i])\n",
    "    i += 1"
   ]
  },
  {
   "cell_type": "code",
   "execution_count": 8,
   "metadata": {},
   "outputs": [],
   "source": [
    "names = [\"Qasim\",\"Nasir\",\"Ali\",\"Hamza\",\"Mansoor\"] # elements, items\n",
    "\n",
    "s = int(input(\"start no:\"))\n",
    "e = int(input(\"end no:\"))\n",
    "i = s\n",
    "while i<e:\n",
    "    print(names[i])\n",
    "    i += 1"
   ]
  },
  {
   "cell_type": "markdown",
   "metadata": {},
   "source": [
    "### list[start:end:seq]\n",
    "extract multiple values from list or tuple also define sequance<br>\n",
    "start = enclude<br>\n",
    "end = exclude or index-1<br>\n",
    "sequance = steps (defualt value of step=1)<br> \n",
    "\n",
    "\n",
    "- range(start,end,step)"
   ]
  },
  {
   "cell_type": "code",
   "execution_count": null,
   "metadata": {},
   "outputs": [
    {
     "name": "stdout",
     "output_type": "stream",
     "text": [
      "[1, 2, 3, 4, 5, 6, 7, 8, 9, 10, 11, 12, 13, 14, 15, 16, 17, 18, 19, 20]\n"
     ]
    }
   ],
   "source": [
    "numbers = list(range(1,21))\n",
    "print(numbers)\n",
    "\n"
   ]
  },
  {
   "cell_type": "code",
   "execution_count": null,
   "metadata": {},
   "outputs": [
    {
     "name": "stdout",
     "output_type": "stream",
     "text": [
      "[1, 2, 3, 4, 5, 6, 7, 8, 9, 10, 11, 12, 13, 14, 15, 16, 17, 18, 19, 20]\n",
      "[9, 10, 11, 12, 13, 14, 15, 16, 17, 18, 19, 20]\n"
     ]
    }
   ],
   "source": [
    "numbers = [1,2,3,4,5,6,7,8,9,10,11,12,13,14,15,16,17,18,19,20]\n",
    "print(numbers)\n",
    "#[start:end:step]\n",
    "print(numbers[8:])\n"
   ]
  },
  {
   "cell_type": "code",
   "execution_count": null,
   "metadata": {},
   "outputs": [
    {
     "name": "stdout",
     "output_type": "stream",
     "text": [
      "[1, 2, 3, 4, 5, 6, 7, 8, 9, 10, 11, 12, 13, 14, 15, 16, 17, 18, 19, 20]\n",
      "[1, 2, 3, 4, 5, 6, 7, 8, 9, 10, 11, 12, 13, 14, 15, 16]\n"
     ]
    }
   ],
   "source": [
    "numbers = [1,2,3,4,5,6,7,8,9,10,11,12,13,14,15,16,17,18,19,20]\n",
    "print(numbers)\n",
    "#[start:end:step]\n",
    "print(numbers[:16])"
   ]
  },
  {
   "cell_type": "code",
   "execution_count": null,
   "metadata": {},
   "outputs": [
    {
     "name": "stdout",
     "output_type": "stream",
     "text": [
      "[1, 2, 3, 4, 5, 6, 7, 8, 9, 10, 11, 12, 13, 14, 15, 16, 17, 18, 19, 20]\n",
      "[8, 9, 10, 11, 12, 13, 14, 15, 16]\n"
     ]
    }
   ],
   "source": [
    "numbers = [1,2,3,4,5,6,7,8,9,10,11,12,13,14,15,16,17,18,19,20]\n",
    "print(numbers)\n",
    "#[start:end:step]\n",
    "print(numbers[7:16]) #numbers[7:16:1]"
   ]
  },
  {
   "cell_type": "code",
   "execution_count": null,
   "metadata": {},
   "outputs": [
    {
     "name": "stdout",
     "output_type": "stream",
     "text": [
      "[1, 2, 3, 4, 5, 6, 7, 8, 9, 10, 11, 12, 13, 14, 15, 16, 17, 18, 19, 20]\n",
      "[1, 3, 5, 7, 9, 11, 13, 15, 17, 19]\n"
     ]
    }
   ],
   "source": [
    "numbers = [1,2,3,4,5,6,7,8,9,10,11,12,13,14,15,16,17,18,19,20]\n",
    "print(numbers)\n",
    "#[start:end:step]\n",
    "print(numbers[::2]) #numbers[7:16:1]"
   ]
  },
  {
   "cell_type": "code",
   "execution_count": null,
   "metadata": {},
   "outputs": [
    {
     "name": "stdout",
     "output_type": "stream",
     "text": [
      "[1, 2, 3, 4, 5, 6, 7, 8, 9, 10, 11, 12, 13, 14, 15, 16, 17, 18, 19, 20]\n",
      "[1, 4, 7, 10, 13, 16, 19]\n"
     ]
    }
   ],
   "source": [
    "numbers = [1,2,3,4,5,6,7,8,9,10,11,12,13,14,15,16,17,18,19,20]\n",
    "print(numbers)\n",
    "#[start:end:step]\n",
    "print(numbers[::3]) #numbers[7:16:1]"
   ]
  },
  {
   "cell_type": "markdown",
   "metadata": {},
   "source": [
    "if step = 1 (slicing left to right)<br>\n",
    "if step = -1 (slicing right to left)"
   ]
  },
  {
   "cell_type": "code",
   "execution_count": null,
   "metadata": {},
   "outputs": [
    {
     "name": "stdout",
     "output_type": "stream",
     "text": [
      "[1, 2, 3, 4, 5, 6, 7, 8, 9, 10, 11, 12, 13, 14, 15, 16, 17, 18, 19, 20]\n",
      "[20, 19, 18, 17, 16, 15, 14, 13, 12, 11, 10, 9, 8, 7, 6, 5, 4, 3, 2, 1]\n"
     ]
    }
   ],
   "source": [
    "numbers = [1,2,3,4,5,6,7,8,9,10,11,12,13,14,15,16,17,18,19,20]\n",
    "print(numbers)\n",
    "#[start:end:step]\n",
    "print(numbers[::-1]) # right to left\n",
    "\n"
   ]
  },
  {
   "cell_type": "code",
   "execution_count": null,
   "metadata": {},
   "outputs": [
    {
     "name": "stdout",
     "output_type": "stream",
     "text": [
      "[1, 2, 3, 4, 5, 6, 7, 8, 9, 10, 11, 12, 13, 14, 15, 16, 17, 18, 19, 20]\n",
      "[]\n",
      "[20, 19, 18, 17, 16, 15, 14, 13, 12, 11, 10, 9, 8, 7, 6, 5, 4, 3, 2, 1]\n",
      "[10, 9, 8, 7, 6, 5, 4, 3, 2, 1]\n",
      "[10, 9, 8, 7, 6, 5, 4, 3, 2, 1]\n"
     ]
    }
   ],
   "source": [
    "numbers = [1,2,3,4,5,6,7,8,9,10,11,12,13,14,15,16,17,18,19,20]\n",
    "print(numbers)\n",
    "#[start:end:step]\n",
    "print(numbers[0:10:-1]) # right to left\n",
    "print(numbers[::-1]) # right to left\n",
    "print(numbers[-11:-21:-1])\n",
    "print(numbers[9::-1])\n"
   ]
  },
  {
   "cell_type": "code",
   "execution_count": null,
   "metadata": {},
   "outputs": [
    {
     "name": "stdout",
     "output_type": "stream",
     "text": [
      "[1, 2, 3, 4, 5]\n",
      "[5, 4, 3, 2, 1]\n",
      "[4, 3, 2]\n",
      "[4, 3, 2]\n"
     ]
    }
   ],
   "source": [
    "numbers = [1,2,3,4,5]\n",
    "print(numbers)\n",
    "print(numbers[::-1])\n",
    "print(numbers[3:0:-1]) #4,3,2\n",
    "print(numbers[-2:-5:-1]) #4,3,2\n",
    "\n"
   ]
  },
  {
   "cell_type": "code",
   "execution_count": null,
   "metadata": {},
   "outputs": [
    {
     "name": "stdout",
     "output_type": "stream",
     "text": [
      "[1, 2, 3, 4, 5]\n",
      "[]\n",
      "[1, 2, 3]\n",
      "[3, 2, 1]\n"
     ]
    }
   ],
   "source": [
    "numbers = [1,2,3,4,5]\n",
    "print(numbers)\n",
    "print(numbers[-2:-5:]) #4,3,2\n",
    "print(numbers[-5:-2:1])\n",
    "print(numbers[2::-1])\n"
   ]
  },
  {
   "cell_type": "code",
   "execution_count": null,
   "metadata": {},
   "outputs": [],
   "source": [
    "Name = Muhammad Qasim = AIC-100000\n",
    "Name = Muhammad Qasim = AIC-100000\n"
   ]
  },
  {
   "cell_type": "markdown",
   "metadata": {},
   "source": [
    "# Attendance Script"
   ]
  },
  {
   "cell_type": "code",
   "execution_count": 10,
   "metadata": {},
   "outputs": [],
   "source": [
    "data = open(\"meeting_saved_chat.txt\")\n",
    "data = data.readlines()\n"
   ]
  },
  {
   "cell_type": "code",
   "execution_count": 11,
   "metadata": {},
   "outputs": [
    {
     "name": "stdout",
     "output_type": "stream",
     "text": [
      "197\n"
     ]
    }
   ],
   "source": [
    "import pandas as pd\n",
    "students_roll_no = []\n",
    "\n",
    "import re\n",
    "for r in data:\n",
    "    a = re.findall(\"AIC\\d{2,7}\",r)\n",
    "    b = re.findall(\"AIC-\\d{2,7}\",r)\n",
    "    result = a+b\n",
    "    result = list(set([i.replace(\"-\",\"\") for i in result]))\n",
    "    if len(result)>=1 and result[0] not in students_roll_no:\n",
    "        students_roll_no.append(result[0])\n",
    "\n",
    "print(len(students_roll_no))\n",
    "d = pd.DataFrame({\"roll no\":sorted(students_roll_no)})"
   ]
  },
  {
   "cell_type": "code",
   "execution_count": 12,
   "metadata": {},
   "outputs": [],
   "source": [
    "d.to_excel(\"NEWroll no.xlsx\",index=False)"
   ]
  },
  {
   "cell_type": "code",
   "execution_count": 13,
   "metadata": {},
   "outputs": [
    {
     "name": "stdout",
     "output_type": "stream",
     "text": [
      "197\n"
     ]
    }
   ],
   "source": [
    "print(len(d))"
   ]
  },
  {
   "cell_type": "markdown",
   "metadata": {},
   "source": [
    "# List methods"
   ]
  },
  {
   "cell_type": "code",
   "execution_count": null,
   "metadata": {},
   "outputs": [
    {
     "data": {
      "text/plain": [
       "['Qasim', 'Nasir', 'Ali', 'Hamza', 'Mansoor']"
      ]
     },
     "execution_count": 118,
     "metadata": {},
     "output_type": "execute_result"
    }
   ],
   "source": [
    "names"
   ]
  },
  {
   "cell_type": "code",
   "execution_count": null,
   "metadata": {},
   "outputs": [
    {
     "data": {
      "text/plain": [
       "['__add__',\n",
       " '__class__',\n",
       " '__contains__',\n",
       " '__delattr__',\n",
       " '__delitem__',\n",
       " '__dir__',\n",
       " '__doc__',\n",
       " '__eq__',\n",
       " '__format__',\n",
       " '__ge__',\n",
       " '__getattribute__',\n",
       " '__getitem__',\n",
       " '__gt__',\n",
       " '__hash__',\n",
       " '__iadd__',\n",
       " '__imul__',\n",
       " '__init__',\n",
       " '__init_subclass__',\n",
       " '__iter__',\n",
       " '__le__',\n",
       " '__len__',\n",
       " '__lt__',\n",
       " '__mul__',\n",
       " '__ne__',\n",
       " '__new__',\n",
       " '__reduce__',\n",
       " '__reduce_ex__',\n",
       " '__repr__',\n",
       " '__reversed__',\n",
       " '__rmul__',\n",
       " '__setattr__',\n",
       " '__setitem__',\n",
       " '__sizeof__',\n",
       " '__str__',\n",
       " '__subclasshook__',\n",
       " 'append',\n",
       " 'clear',\n",
       " 'copy',\n",
       " 'count',\n",
       " 'extend',\n",
       " 'index',\n",
       " 'insert',\n",
       " 'pop',\n",
       " 'remove',\n",
       " 'reverse',\n",
       " 'sort']"
      ]
     },
     "execution_count": 119,
     "metadata": {},
     "output_type": "execute_result"
    }
   ],
   "source": [
    "dir(names)"
   ]
  },
  {
   "cell_type": "code",
   "execution_count": null,
   "metadata": {},
   "outputs": [
    {
     "name": "stdout",
     "output_type": "stream",
     "text": [
      "['Qasim', 'Nasir', 'Ali', 'Hamza', 'Mansoor']\n",
      "['Qasim', 'Nasir', 'Ali', 'Hamza', 'Mansoor', 'Asif']\n"
     ]
    }
   ],
   "source": [
    "print(names)\n",
    "names.append(\"Asif\")# add element in the list at last\n",
    "print(names) "
   ]
  },
  {
   "cell_type": "code",
   "execution_count": null,
   "metadata": {},
   "outputs": [
    {
     "name": "stdout",
     "output_type": "stream",
     "text": [
      "['Qasim', 'Nasir', 'Ali', 'Hamza', 'Mansoor', 'Asif', 'Hamza']\n"
     ]
    }
   ],
   "source": [
    "names.append(\"Hamza\")\n",
    "print(names)"
   ]
  },
  {
   "cell_type": "code",
   "execution_count": null,
   "metadata": {},
   "outputs": [
    {
     "name": "stdout",
     "output_type": "stream",
     "text": [
      "[1, 2, 3, 4, 5]\n",
      "[]\n"
     ]
    }
   ],
   "source": [
    "print(numbers)\n",
    "numbers.clear()\n",
    "print(numbers)"
   ]
  },
  {
   "cell_type": "code",
   "execution_count": null,
   "metadata": {},
   "outputs": [
    {
     "name": "stdout",
     "output_type": "stream",
     "text": [
      "['Qasim', 'Nasir', 'Ali', 'Hamza', 'Mansoor', 'Asif', 'Hamza']\n",
      "['Qasim', 'Nasir', 'Ali', 'Hamza', 'Mansoor', 'Asif', 'Hamza']\n",
      "['Muhammad Qasim', 'Nasir', 'Ali', 'Hamza', 'Mansoor', 'Asif', 'Hamza']\n",
      "['Muhammad Qasim', 'Nasir', 'Ali', 'Hamza', 'Mansoor', 'Asif', 'Hamza']\n"
     ]
    }
   ],
   "source": [
    "sname = names\n",
    "print(names)\n",
    "print(sname)\n",
    "\n",
    "names[0]=\"Muhammad Qasim\"\n",
    "\n",
    "print(names)\n",
    "print(sname)\n"
   ]
  },
  {
   "cell_type": "code",
   "execution_count": null,
   "metadata": {},
   "outputs": [
    {
     "name": "stdout",
     "output_type": "stream",
     "text": [
      "['1', '2', '3']\n",
      "['1', '2', '3']\n"
     ]
    }
   ],
   "source": [
    "l1 = ['1','2','3']\n",
    "l2 = l1.copy()\n",
    "print(l1)\n",
    "print(l2)\n"
   ]
  },
  {
   "cell_type": "code",
   "execution_count": null,
   "metadata": {},
   "outputs": [
    {
     "name": "stdout",
     "output_type": "stream",
     "text": [
      "['ABC', '2', '3']\n",
      "['1', '2', '3']\n"
     ]
    }
   ],
   "source": [
    "l1[0] = \"ABC\"\n",
    "\n",
    "print(l1)\n",
    "print(l2)"
   ]
  },
  {
   "cell_type": "code",
   "execution_count": null,
   "metadata": {},
   "outputs": [
    {
     "data": {
      "text/plain": [
       "['Muhammad Qasim',\n",
       " 'Nasir',\n",
       " 'Ali',\n",
       " 'Hamza',\n",
       " 'Mansoor',\n",
       " 'Asif',\n",
       " 'Muhammad Qasim']"
      ]
     },
     "execution_count": 133,
     "metadata": {},
     "output_type": "execute_result"
    }
   ],
   "source": [
    "names"
   ]
  },
  {
   "cell_type": "code",
   "execution_count": null,
   "metadata": {},
   "outputs": [
    {
     "name": "stdout",
     "output_type": "stream",
     "text": [
      "['ABC', '2', '3']\n",
      "['ABC', '2', '3']\n",
      "['ABC', '2', '3']\n",
      "['ABC', '2', '3']\n"
     ]
    }
   ],
   "source": [
    "l1 = ['1','2','3']\n",
    "l2=l3=l4 = l1 # nick name or shallow copy\n",
    "\n",
    "l4[0] = 'ABC'\n",
    "\n",
    "print(l1)\n",
    "print(l2)\n",
    "print(l3)\n",
    "print(l4)"
   ]
  },
  {
   "cell_type": "code",
   "execution_count": null,
   "metadata": {},
   "outputs": [
    {
     "name": "stdout",
     "output_type": "stream",
     "text": [
      "['1', '2', '3']\n",
      "['ABC', '2', '3']\n"
     ]
    }
   ],
   "source": [
    "l1 = ['1','2','3']\n",
    "l4 = l1.copy() # Deep copy\n",
    "\n",
    "l4[0] = 'ABC'\n",
    "\n",
    "print(l1)\n",
    "print(l4)"
   ]
  },
  {
   "cell_type": "code",
   "execution_count": null,
   "metadata": {},
   "outputs": [
    {
     "data": {
      "text/plain": [
       "[1, 2, 3, 4, 5, 6]"
      ]
     },
     "execution_count": 139,
     "metadata": {},
     "output_type": "execute_result"
    }
   ],
   "source": [
    "l1 = [1,2,3]\n",
    "l2 = [4,5,6]\n",
    "\n",
    "l1 + l2"
   ]
  },
  {
   "cell_type": "code",
   "execution_count": null,
   "metadata": {},
   "outputs": [
    {
     "name": "stdout",
     "output_type": "stream",
     "text": [
      "[1, 2, 3, 4, 5, 6]\n",
      "[4, 5, 6]\n"
     ]
    }
   ],
   "source": [
    "l1 = [1,2,3]\n",
    "l2 = [4,5,6]\n",
    "\n",
    "l1.extend(l2)\n",
    "\n",
    "print(l1)\n",
    "print(l2)"
   ]
  },
  {
   "cell_type": "code",
   "execution_count": null,
   "metadata": {},
   "outputs": [
    {
     "data": {
      "text/plain": [
       "[1, 2, 3, 4, 5, 6]"
      ]
     },
     "execution_count": 141,
     "metadata": {},
     "output_type": "execute_result"
    }
   ],
   "source": [
    "l1"
   ]
  },
  {
   "cell_type": "code",
   "execution_count": null,
   "metadata": {},
   "outputs": [
    {
     "name": "stdout",
     "output_type": "stream",
     "text": [
      "[1, 2, 3, [4, 5, 6]]\n",
      "[4, 5, 6]\n"
     ]
    }
   ],
   "source": [
    "l1 = [1,2,3]\n",
    "l2 = [4,5,6]\n",
    "\n",
    "l1.append(l2)\n",
    "\n",
    "print(l1)\n",
    "print(l2)"
   ]
  },
  {
   "cell_type": "code",
   "execution_count": null,
   "metadata": {},
   "outputs": [
    {
     "data": {
      "text/plain": [
       "['Muhammad Qasim',\n",
       " 'Nasir',\n",
       " 'Ali',\n",
       " 'Hamza',\n",
       " 'Mansoor',\n",
       " 'Asif',\n",
       " 'Muhammad Qasim']"
      ]
     },
     "execution_count": 143,
     "metadata": {},
     "output_type": "execute_result"
    }
   ],
   "source": [
    "names"
   ]
  },
  {
   "cell_type": "code",
   "execution_count": 8,
   "metadata": {},
   "outputs": [
    {
     "data": {
      "text/plain": [
       "4"
      ]
     },
     "execution_count": 8,
     "metadata": {},
     "output_type": "execute_result"
    }
   ],
   "source": [
    "names = ['Muhammad Qasim',\n",
    " 'Nasir',\n",
    " 'Ali',\n",
    " 'Hamza',\n",
    " 'Mansoor',\n",
    " 'Asif',\n",
    " 'Muhammad Qasim']\n",
    "names.index (\"Mansoor\")"
   ]
  },
  {
   "cell_type": "code",
   "execution_count": 9,
   "metadata": {},
   "outputs": [
    {
     "data": {
      "text/plain": [
       "0"
      ]
     },
     "execution_count": 9,
     "metadata": {},
     "output_type": "execute_result"
    }
   ],
   "source": [
    "names.index(\"Muhammad Qasim\")"
   ]
  },
  {
   "cell_type": "code",
   "execution_count": null,
   "metadata": {},
   "outputs": [],
   "source": []
  }
 ],
 "metadata": {
  "kernelspec": {
   "display_name": "Python 3.9.12 ('base')",
   "language": "python",
   "name": "python3"
  },
  "language_info": {
   "codemirror_mode": {
    "name": "ipython",
    "version": 3
   },
   "file_extension": ".py",
   "mimetype": "text/x-python",
   "name": "python",
   "nbconvert_exporter": "python",
   "pygments_lexer": "ipython3",
   "version": "2022.5"
  },
  "vscode": {
   "interpreter": {
    "hash": "e42634819b8c191a5d07eaf23810ff32516dd8d3875f28ec3e488928fbd3c187"
   }
  }
 },
 "nbformat": 4,
 "nbformat_minor": 4
}
