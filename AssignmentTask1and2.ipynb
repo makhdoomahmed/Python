{
 "cells": [
  {
   "cell_type": "markdown",
   "id": "e491e701",
   "metadata": {},
   "source": [
    "\n",
    "# Assignment Task -1\n",
    "<BR> * Import mother and father attribute </BR>\n",
    "<BR> * Add two new attributes in child constructor </BR>"
   ]
  },
  {
   "cell_type": "code",
   "execution_count": 2,
   "id": "41f59337",
   "metadata": {},
   "outputs": [
    {
     "name": "stdout",
     "output_type": "stream",
     "text": [
      "['Fatername', 'color', 'father_speak', 'fname', 'hair_color', 'height']\n",
      "['Mothername', 'color', 'fname', 'hair_color', 'height', 'mother_slient']\n",
      "['Fatername', 'childLanguage', 'childName', 'color', 'father_speak', 'fname', 'hair_color', 'height', 'mother_slient']\n"
     ]
    }
   ],
   "source": [
    "class Father():\n",
    "    \n",
    "    def __init__(self):\n",
    "        self.Fatername = None\n",
    "        self.fname = None\n",
    "        self.color = 'brownish'\n",
    "        self.hair_color = 'dark brown'\n",
    "        self.height = '5.8 feet'\n",
    "        \n",
    "        \n",
    "    def father_speak(self):\n",
    "        return \"Hahahah!\"\n",
    "    \n",
    "    \n",
    "class Mother():\n",
    "    def __init__(self):\n",
    "        self.Mothername = None\n",
    "        self.fname = None\n",
    "        self.color = 'whitish'\n",
    "        self.hair_color = 'black'\n",
    "        self.height = '5.0 feet'\n",
    "        \n",
    "        \n",
    "    def mother_slient(self):\n",
    "        return \"...\"\n",
    "\n",
    "class Child(Father, Mother):\n",
    "       def __init__(self):\n",
    "        super().__init__()\n",
    "        self.childName = None\n",
    "        self.childLanguage = None\n",
    "\n",
    "f1 = Father()\n",
    "m1 = Mother()\n",
    "c1 = Child()\n",
    "print([i for i in dir(f1) if \"__\" not in i])\n",
    "print([i for i in dir(m1) if \"__\" not in i])\n",
    "print([i for i in dir(c1) if \"__\" not in i])"
   ]
  },
  {
   "cell_type": "markdown",
   "id": "3194b313",
   "metadata": {},
   "source": [
    "\n",
    "\n",
    "# Assignment Task -2\n",
    "\n",
    "Operator overload"
   ]
  },
  {
   "cell_type": "code",
   "execution_count": 12,
   "id": "bb3f9b87",
   "metadata": {},
   "outputs": [
    {
     "name": "stdout",
     "output_type": "stream",
     "text": [
      "Deal 1 Amount is 90  Deal 2 Amount is 40\n"
     ]
    }
   ],
   "source": [
    "class TotalNumber ():\n",
    "    def __init__(self,Num1 , Num2):\n",
    "        self.Item1 = Num1\n",
    "        self.Item2 = Num2\n",
    "    def __add__(self,other):\n",
    "        Item1 = self.Item1 + other.Item1 \n",
    "        Item2 = self.Item2 + other.Item2\n",
    "        Total = TotalNumber(Item1 , Item2)\n",
    "        return Total\n",
    "    def __str__(self):\n",
    "        return f\"Deal 1 Amount is {self.Item1}  Deal 2 Amount is {self.Item2}\"\n",
    "    \n",
    "Deal1 = TotalNumber(10,20)\n",
    "Deal2 = TotalNumber(80,20)\n",
    "\n",
    "print(Deal1 + Deal2) \n",
    "\n",
    "\n",
    "        "
   ]
  },
  {
   "cell_type": "code",
   "execution_count": null,
   "id": "3902afbd",
   "metadata": {},
   "outputs": [],
   "source": []
  }
 ],
 "metadata": {
  "kernelspec": {
   "display_name": "Python 3 (ipykernel)",
   "language": "python",
   "name": "python3"
  },
  "language_info": {
   "codemirror_mode": {
    "name": "ipython",
    "version": 3
   },
   "file_extension": ".py",
   "mimetype": "text/x-python",
   "name": "python",
   "nbconvert_exporter": "python",
   "pygments_lexer": "ipython3",
   "version": "3.9.12"
  }
 },
 "nbformat": 4,
 "nbformat_minor": 5
}
