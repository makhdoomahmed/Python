class Father():
    
    def __init__(self):
        self.Fatername = None
        self.fname = None
        self.color = 'brownish'
        self.hair_color = 'dark brown'
        self.height = '5.8 feet'
        
        
    def father_speak(self):
        return "Hahahah!"
    
    
class Mother():
    def __init__(self):
        self.Mothername = None
        self.fname = None
        self.color = 'whitish'
        self.hair_color = 'black'
        self.height = '5.0 feet'
        
        
    def mother_slient(self):
        return "..."

class Child(Father, Mother):
       def __init__(self):
        super().__init__()
        self.childName = None
        self.childLanguage = None


c1 = Child()
print([i for i in dir(c1) if "__" not in i])

out put : ['Fatername', 'childLanguage', 'childName', 'color', 'father_speak', 'fname', 'hair_color', 'height', 'mother_slient']