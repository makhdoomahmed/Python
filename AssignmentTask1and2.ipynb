{
 "cells": [
  {
   "cell_type": "code",
   "execution_count": 2,
   "id": "267cbc54",
   "metadata": {},
   "outputs": [
    {
     "name": "stdout",
     "output_type": "stream",
     "text": [
      "['Fatername', 'color', 'father_speak', 'fname', 'hair_color', 'height']\n",
      "['Mothername', 'color', 'fname', 'hair_color', 'height', 'mother_slient']\n",
      "['Fatername', 'childLanguage', 'childName', 'color', 'father_speak', 'fname', 'hair_color', 'height', 'mother_slient']\n"
     ]
    }
   ],
   "source": [
    "class Father():\n",
    "    \n",
    "    def __init__(self):\n",
    "        self.Fatername = None\n",
    "        self.fname = None\n",
    "        self.color = 'brownish'\n",
    "        self.hair_color = 'dark brown'\n",
    "        self.height = '5.8 feet'\n",
    "        \n",
    "        \n",
    "    def father_speak(self):\n",
    "        return \"Hahahah!\"\n",
    "    \n",
    "    \n",
    "class Mother():\n",
    "    def __init__(self):\n",
    "        self.Mothername = None\n",
    "        self.fname = None\n",
    "        self.color = 'whitish'\n",
    "        self.hair_color = 'black'\n",
    "        self.height = '5.0 feet'\n",
    "        \n",
    "        \n",
    "    def mother_slient(self):\n",
    "        return \"...\"\n",
    "\n",
    "class Child(Father, Mother):\n",
    "       def __init__(self):\n",
    "        super().__init__()\n",
    "        self.childName = None\n",
    "        self.childLanguage = None\n",
    "\n",
    "f1 = Father()\n",
    "m1 = Mother()\n",
    "c1 = Child()\n",
    "print([i for i in dir(f1) if \"__\" not in i])\n",
    "print([i for i in dir(m1) if \"__\" not in i])\n",
    "print([i for i in dir(c1) if \"__\" not in i])"
   ]
  },
  {
   "cell_type": "code",
   "execution_count": null,
   "id": "70bd4718",
   "metadata": {},
   "outputs": [],
   "source": []
  }
 ],
 "metadata": {
  "kernelspec": {
   "display_name": "Python 3 (ipykernel)",
   "language": "python",
   "name": "python3"
  },
  "language_info": {
   "codemirror_mode": {
    "name": "ipython",
    "version": 3
   },
   "file_extension": ".py",
   "mimetype": "text/x-python",
   "name": "python",
   "nbconvert_exporter": "python",
   "pygments_lexer": "ipython3",
   "version": "3.9.12"
  }
 },
 "nbformat": 4,
 "nbformat_minor": 5
}
